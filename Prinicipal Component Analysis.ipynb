{
 "cells": [
  {
   "cell_type": "code",
   "execution_count": 84,
   "metadata": {},
   "outputs": [],
   "source": [
    "import numpy as np\n",
    "import pandas as pd"
   ]
  },
  {
   "cell_type": "code",
   "execution_count": 85,
   "metadata": {},
   "outputs": [],
   "source": [
    "df=pd.read_csv(\"C:\\\\Users\\\\Vishal\\\\Desktop\\\\DataScience\\\\Udemy\\\\Machine_Learning-AtoZ\\\\Part 9 - Dimensionality Reduction\\\\Section 43 - Principal Component Analysis (PCA)\\PCA\\\\Wine.csv\")"
   ]
  },
  {
   "cell_type": "code",
   "execution_count": 86,
   "metadata": {},
   "outputs": [],
   "source": [
    "X=df[['Alcohol', 'Malic_Acid', 'Ash', 'Ash_Alcanity', 'Magnesium','Total_Phenols', 'Flavanoids', 'Nonflavanoid_Phenols','Proanthocyanins', 'Color_Intensity', 'Hue', 'OD280', 'Proline']]\n",
    "Y=df['Customer_Segment']"
   ]
  },
  {
   "cell_type": "code",
   "execution_count": 87,
   "metadata": {},
   "outputs": [],
   "source": [
    "def runPCA(X,k=X.shape[0]):\n",
    "    '''\n",
    "    X = data consisting of independent variables\n",
    "    k = number of reduced dimensions\n",
    "    Steps of Prinicipal Component Analysis\n",
    "    - Normalize (Substract the independent variables by mean and divide by standard deviation)\n",
    "    - Compute the data covariance matrix\n",
    "    - Compute their eigen vectors and its eigen values\n",
    "    - Project data points onto the lower dimesnsions, which is a prinicpal subspace spanned by \n",
    "      the eigen vectors having largest eigen values.\n",
    "    '''\n",
    "    X_T=((X-X.mean())/X.std()) ## Normalization\n",
    "    cor=np.corrcoef(X_T,rowvar=False) ## Covariance matrix\n",
    "    u,s,v=np.linalg.svd(cor) ## eigen vectors and eigen values \n",
    "    u=u[:,:k]\n",
    "    PC=pd.DataFrame(np.dot(X_T,u)) ## Project data onto lower dimensions\n",
    "    varianceRatio=(s/sum(s))\n",
    "    reducedVariance=varianceRatio[:k]\n",
    "    totalreducedVariance=round(reducedVariance.sum(),3)\n",
    "    return reducedVariance,totalreducedVariance,PC"
   ]
  },
  {
   "cell_type": "code",
   "execution_count": 88,
   "metadata": {},
   "outputs": [],
   "source": [
    "r,t,p=runPCA(X,5)"
   ]
  },
  {
   "cell_type": "markdown",
   "metadata": {},
   "source": [
    "### Explained variance ratio "
   ]
  },
  {
   "cell_type": "code",
   "execution_count": 94,
   "metadata": {},
   "outputs": [
    {
     "data": {
      "text/plain": [
       "array([0.36198848, 0.1920749 , 0.11123631, 0.0706903 , 0.06563294])"
      ]
     },
     "execution_count": 94,
     "metadata": {},
     "output_type": "execute_result"
    }
   ],
   "source": [
    "r"
   ]
  },
  {
   "cell_type": "markdown",
   "metadata": {},
   "source": [
    "## Comparing results with Scikit Learn"
   ]
  },
  {
   "cell_type": "code",
   "execution_count": 90,
   "metadata": {},
   "outputs": [
    {
     "data": {
      "text/plain": [
       "array([0.36198848, 0.1920749 , 0.11123631, 0.0706903 , 0.06563294])"
      ]
     },
     "execution_count": 90,
     "metadata": {},
     "output_type": "execute_result"
    }
   ],
   "source": [
    "from sklearn.decomposition import PCA\n",
    "from sklearn.preprocessing import StandardScaler\n",
    "sc=StandardScaler()\n",
    "X_T=sc.fit_transform(X)\n",
    "pca=PCA()\n",
    "pd.DataFrame(pca.fit_transform(X_T)).iloc[:,:5].head()\n",
    "pca.explained_variance_ratio_[:5]"
   ]
  },
  {
   "cell_type": "markdown",
   "metadata": {},
   "source": [
    "### Explained variation ratio from runPCA() and SckitLearn are matching."
   ]
  },
  {
   "cell_type": "code",
   "execution_count": 92,
   "metadata": {},
   "outputs": [],
   "source": [
    "#def runPCA(X,k=X.shape[0]):\n",
    "#    '''\n",
    "#    X = data consisting of independent variables\n",
    "#    k = number of reduced dimensions\n",
    "#    '''\n",
    "#    X_T=((X-X.mean())/X.std())\n",
    "#    cor=np.corrcoef(X_T,rowvar=False)\n",
    "#    eValue,eVector=np.linalg.eig(cor)\n",
    "#    sort=eValue.argsort()[::-1]\n",
    "#    eValue=eValue[sort]\n",
    "#    eVector=eVector[:,sort]\n",
    "#    eVector=eVector[:,:k] # 5 variables\n",
    "#    PC=pd.DataFrame(np.dot(X_T,eVector))\n",
    "#    varianceRatio=(eValue/sum(eValue))\n",
    "#    reducedVariance=varianceRatio[:k]\n",
    "#    totalreducedVariance=reducedVariance.sum()\n",
    "#    return reducedVariance,totalreducedVariance,PC\n",
    "\n"
   ]
  },
  {
   "cell_type": "code",
   "execution_count": null,
   "metadata": {},
   "outputs": [],
   "source": []
  }
 ],
 "metadata": {
  "kernelspec": {
   "display_name": "Python 3",
   "language": "python",
   "name": "python3"
  },
  "language_info": {
   "codemirror_mode": {
    "name": "ipython",
    "version": 3
   },
   "file_extension": ".py",
   "mimetype": "text/x-python",
   "name": "python",
   "nbconvert_exporter": "python",
   "pygments_lexer": "ipython3",
   "version": "3.6.5"
  }
 },
 "nbformat": 4,
 "nbformat_minor": 2
}
